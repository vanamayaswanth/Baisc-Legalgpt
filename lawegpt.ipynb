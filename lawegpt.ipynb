{
  "cells": [
    {
      "cell_type": "code",
      "execution_count": null,
      "metadata": {
        "colab": {
          "base_uri": "https://localhost:8080/"
        },
        "id": "Ir2AI0cj-R3K",
        "outputId": "9d80f9df-3725-4b28-d585-4fdbc8536456"
      },
      "outputs": [
        {
          "name": "stdout",
          "output_type": "stream",
          "text": [
            "\u001b[?25l     \u001b[90m━━━━━━━━━━━━━━━━━━━━━━━━━━━━━━━━━━━━━━━━\u001b[0m \u001b[32m0.0/1.7 MB\u001b[0m \u001b[31m?\u001b[0m eta \u001b[36m-:--:--\u001b[0m\r\u001b[2K     \u001b[91m━━\u001b[0m\u001b[90m╺\u001b[0m\u001b[90m━━━━━━━━━━━━━━━━━━━━━━━━━━━━━━━━━━━━━\u001b[0m \u001b[32m0.1/1.7 MB\u001b[0m \u001b[31m3.0 MB/s\u001b[0m eta \u001b[36m0:00:01\u001b[0m\r\u001b[2K     \u001b[91m━━━━━━━━━━━━━━━━━━━\u001b[0m\u001b[91m╸\u001b[0m\u001b[90m━━━━━━━━━━━━━━━━━━━━\u001b[0m \u001b[32m0.9/1.7 MB\u001b[0m \u001b[31m13.5 MB/s\u001b[0m eta \u001b[36m0:00:01\u001b[0m\r\u001b[2K     \u001b[90m━━━━━━━━━━━━━━━━━━━━━━━━━━━━━━━━━━━━━━━━\u001b[0m \u001b[32m1.7/1.7 MB\u001b[0m \u001b[31m19.0 MB/s\u001b[0m eta \u001b[36m0:00:00\u001b[0m\n",
            "\u001b[2K     \u001b[90m━━━━━━━━━━━━━━━━━━━━━━━━━━━━━━━━━━━━━━━━\u001b[0m \u001b[32m77.0/77.0 kB\u001b[0m \u001b[31m7.4 MB/s\u001b[0m eta \u001b[36m0:00:00\u001b[0m\n",
            "\u001b[2K     \u001b[90m━━━━━━━━━━━━━━━━━━━━━━━━━━━━━━━━━━━━━━━━\u001b[0m \u001b[32m2.0/2.0 MB\u001b[0m \u001b[31m66.4 MB/s\u001b[0m eta \u001b[36m0:00:00\u001b[0m\n",
            "\u001b[2K     \u001b[90m━━━━━━━━━━━━━━━━━━━━━━━━━━━━━━━━━━━━━━━━\u001b[0m \u001b[32m9.5/9.5 MB\u001b[0m \u001b[31m85.1 MB/s\u001b[0m eta \u001b[36m0:00:00\u001b[0m\n",
            "\u001b[2K     \u001b[90m━━━━━━━━━━━━━━━━━━━━━━━━━━━━━━━━━━━━━━━━\u001b[0m \u001b[32m1.5/1.5 MB\u001b[0m \u001b[31m65.1 MB/s\u001b[0m eta \u001b[36m0:00:00\u001b[0m\n",
            "\u001b[2K     \u001b[90m━━━━━━━━━━━━━━━━━━━━━━━━━━━━━━━━━━━━━━━━\u001b[0m \u001b[32m17.6/17.6 MB\u001b[0m \u001b[31m65.7 MB/s\u001b[0m eta \u001b[36m0:00:00\u001b[0m\n",
            "\u001b[2K     \u001b[90m━━━━━━━━━━━━━━━━━━━━━━━━━━━━━━━━━━━━━━\u001b[0m \u001b[32m400.2/400.2 kB\u001b[0m \u001b[31m28.4 MB/s\u001b[0m eta \u001b[36m0:00:00\u001b[0m\n",
            "\u001b[2K     \u001b[90m━━━━━━━━━━━━━━━━━━━━━━━━━━━━━━━━━━━━━━\u001b[0m \u001b[32m358.9/358.9 kB\u001b[0m \u001b[31m26.7 MB/s\u001b[0m eta \u001b[36m0:00:00\u001b[0m\n",
            "\u001b[2K     \u001b[90m━━━━━━━━━━━━━━━━━━━━━━━━━━━━━━━━━━━━━━\u001b[0m \u001b[32m275.1/275.1 kB\u001b[0m \u001b[31m23.3 MB/s\u001b[0m eta \u001b[36m0:00:00\u001b[0m\n",
            "\u001b[2K     \u001b[90m━━━━━━━━━━━━━━━━━━━━━━━━━━━━━━━━━━━━━━━━\u001b[0m \u001b[32m49.4/49.4 kB\u001b[0m \u001b[31m4.7 MB/s\u001b[0m eta \u001b[36m0:00:00\u001b[0m\n",
            "\u001b[2K     \u001b[90m━━━━━━━━━━━━━━━━━━━━━━━━━━━━━━━━━━━━━━━━\u001b[0m \u001b[32m58.3/58.3 kB\u001b[0m \u001b[31m5.7 MB/s\u001b[0m eta \u001b[36m0:00:00\u001b[0m\n",
            "\u001b[?25h"
          ]
        }
      ],
      "source": [
        "!pip install langchain openai tiktoken selenium unstructured faiss-cpu -q\n",
        "\n"
      ]
    },
    {
      "cell_type": "code",
      "execution_count": null,
      "metadata": {
        "id": "5wltbOb2-N-K"
      },
      "outputs": [],
      "source": [
        "urls = {\n",
        "    \"https://indiankanoon.org/doc/62271433\",\n",
        "    \"https://indiankanoon.org/doc/99382937\",\n",
        "}"
      ]
    },
    {
      "cell_type": "code",
      "execution_count": null,
      "metadata": {
        "colab": {
          "base_uri": "https://localhost:8080/"
        },
        "collapsed": true,
        "id": "a5E9lowc-Il1",
        "outputId": "8f3bc0b5-c9a5-4ed0-a14a-a9181c2a0093"
      },
      "outputs": [
        {
          "name": "stderr",
          "output_type": "stream",
          "text": [
            "[nltk_data] Downloading package punkt to /root/nltk_data...\n",
            "[nltk_data]   Unzipping tokenizers/punkt.zip.\n",
            "[nltk_data] Downloading package averaged_perceptron_tagger to\n",
            "[nltk_data]     /root/nltk_data...\n",
            "[nltk_data]   Unzipping taggers/averaged_perceptron_tagger.zip.\n"
          ]
        }
      ],
      "source": [
        "from langchain.document_loaders import UnstructuredURLLoader\n",
        "loaders = UnstructuredURLLoader(urls=urls)\n",
        "data = loaders.load()"
      ]
    },
    {
      "cell_type": "code",
      "execution_count": null,
      "metadata": {
        "colab": {
          "base_uri": "https://localhost:8080/"
        },
        "id": "GK0c8gKP-JwD",
        "outputId": "4b17d037-e253-4f50-8194-22499062bc69"
      },
      "outputs": [
        {
          "data": {
            "text/plain": [
              "Document(page_content=\"Premium Members\\n\\nAdvanced Search\\n\\nCase Removal\\n\\nWarning on Translation\\n\\nTake notes as you read a judgment using our Virtual Legal Assistant and get email alerts whenever a new judgment matches your query (Query Alert Service). Try out our Premium Member services -- Free for one month.\\n\\nTripura High Court\\n\\nRamesh Debbarma vs The State Of Tripura And Others on 22 September, 2023\\n\\nPage 1 of 2\\n\\n\\n\\n\\n                        HIGH COURT OF TRIPURA\\n                              AGARTALA\\n                            WP(C) No.603 of 2023\\nRamesh Debbarma\\n                                                         ...... Petitioner(s)\\n                            VERSUS\\nThe State of Tripura and others\\n                                                       ...... Respondent(s)\\n\\nFor Petitioner(s)               :      Mr. P. Roy Barman, Senior Advocate.\\n\\nMr. K. Chakraborty, Advocate.\\n\\nFor Respondent(s)               :      Mr. D. Sarkar, Advocate.\\n\\nHON'BLE THE CHIEF JUSTICE MR. APARESH KUMAR SINGH\\n\\n                                _O_R_D_E_R_\\n\\n22/09/2023\\n\\n             Heard Mr. P. Roy Barman, learned senior counsel appearing for\\n\\nthe petitioner. Also heard Mr. D. Sarkar, learned counsel appearing for the\\n\\nState.\\n\\nPetitioner has approached this Court for a direction upon the\\n\\nrespondents to designate him as Junior Engineer, Grade-I in the corresponding\\n\\npay scale on completion of four years' of service in the post of Junior Engineer,\\n\\nGrade-II w.e.f. the date of his joining. Petitioner has also made a prayer for\\n\\ndirecting the respondents to regularize his services w.e.f. 26.03.1996 when he\\n\\nwas engaged as Junior Engineer (Mechanical), Grade-I on ad-hoc basis instead\\n\\nof 30.07.2004 with consequential benefits. Petitioner has placed reliance on\\n\\ncertain decisions rendered in the case of other persons such as Annexure-9\\n\\n[judgment dated 25.02.2020 passed in WP(C) No.1099 of 2018], Annexure-10\\n\\n[judgment dated 20.12.2019 passed in WP(C) No.191 of 2018], Annexure-11\\n\\n[judgment dated 16.03.2023 passed in WP(C) No.606 of 2022] and Annexure-\\n\\n12 [order dated 24.04.2023 passed in I.A.No.1 of 2023 in WP(C) No.606 of\\n\\n2022]. He has also made a representation vide Annexure-8 dated 27.06.2023\\n                                                             Page 2 of 2\\n\\n\\n\\n\\nbut since the grievances of the petitioner are not being redressed, he has\\n\\napproached this Court.\\n\\nMr. P. Roy Barman, learned senior counsel for the petitioner\\n\\nsubmits that to suffice it, the writ petition may be disposed of in similar lines as\\n\\nin the case of other similarly situated petitioners by directing the respondents to\\n\\ntake a decision on the representation of the petitioner in accordance with law\\n\\nwithin a stipulated time.\\n\\nLearned counsel for the respondents submits that the matter has\\n\\nbeen taken up for the first time as such instructions are awaited. However, if so\\n\\ndirected, the competent authority under the respondent Department shall\\n\\nconsider the case of the petitioner in accordance with law.\\n\\nHaving regard to the bare facts taken note above and that the\\n\\npetitioner has approached the competent authority/respondent No.2, at this\\n\\ninstance, without making any observations on the merits of the case of the\\n\\npetitioner, the writ petition is disposed of with a direction upon the competent\\n\\nauthority/ respondent No.2 to take a decision on the representation of the\\n\\npetitioner in accordance with law within a reasonable time, preferably\\n\\n12(twelve) weeks from the date of receipt of copy of this order.\\n\\nPending application(s), if any, shall also stand disposed of.\\n\\n(APARESH KUMAR SINGH), CJ\\n\\n\\n\\n\\nRudradeep   RUDRADEEP   Digitally signed by RUDRADEEP\\n                        BANERJEE\\n            BANERJEE    Date: 2023.09.22 14:51:11 +05'30'\", metadata={'source': 'https://indiankanoon.org/doc/62271433'})"
            ]
          },
          "execution_count": 4,
          "metadata": {},
          "output_type": "execute_result"
        }
      ],
      "source": [
        "data[1]"
      ]
    },
    {
      "cell_type": "code",
      "execution_count": null,
      "metadata": {
        "id": "6pyf_Ou6-52E"
      },
      "outputs": [],
      "source": [
        "from langchain.text_splitter import CharacterTextSplitter\n",
        "\n",
        "text_splitter = CharacterTextSplitter(separator='\\n',\n",
        "                                      chunk_size=1000,\n",
        "                                      chunk_overlap=200)\n",
        "\n",
        "\n",
        "docs = text_splitter.split_documents(data)"
      ]
    },
    {
      "cell_type": "code",
      "execution_count": null,
      "metadata": {
        "colab": {
          "base_uri": "https://localhost:8080/"
        },
        "id": "mUTjkUxSAI6u",
        "outputId": "2888ba92-417f-477c-af8b-7db3995b0a93"
      },
      "outputs": [
        {
          "name": "stdout",
          "output_type": "stream",
          "text": [
            "OpenAI API Key:··········\n"
          ]
        }
      ],
      "source": [
        "import os\n",
        "import getpass\n",
        "\n",
        "os.environ['OPENAI_API_KEY'] = getpass.getpass('OpenAI API Key:')"
      ]
    },
    {
      "cell_type": "code",
      "execution_count": null,
      "metadata": {
        "id": "kgIpIiZqAVRs"
      },
      "outputs": [],
      "source": [
        "from langchain.embeddings.openai import OpenAIEmbeddings\n",
        "from langchain.vectorstores import FAISS\n",
        "\n",
        "embeddings = OpenAIEmbeddings()"
      ]
    },
    {
      "cell_type": "code",
      "execution_count": null,
      "metadata": {
        "id": "15UMnw3-AchY"
      },
      "outputs": [],
      "source": [
        "from langchain.chat_models import ChatOpenAI\n",
        "\n",
        "llm = ChatOpenAI(temperature=0.3\n",
        "                 , model=\"gpt-3.5-turbo\")"
      ]
    },
    {
      "cell_type": "code",
      "execution_count": null,
      "metadata": {
        "colab": {
          "base_uri": "https://localhost:8080/"
        },
        "id": "eo0LTS7bAkcg",
        "outputId": "8efd730f-f328-4596-ac9f-a4e057e1cf84"
      },
      "outputs": [
        {
          "name": "stdout",
          "output_type": "stream",
          "text": [
            "Requirement already satisfied: faiss-cpu in /usr/local/lib/python3.10/dist-packages (1.7.4)\n"
          ]
        }
      ],
      "source": [
        "! pip install faiss-cpu"
      ]
    },
    {
      "cell_type": "code",
      "execution_count": null,
      "metadata": {
        "id": "JTqC9MSKAfZQ"
      },
      "outputs": [],
      "source": [
        "db = FAISS.from_documents(docs, OpenAIEmbeddings())"
      ]
    },
    {
      "cell_type": "code",
      "execution_count": null,
      "metadata": {
        "id": "CmgoCqhZAinK"
      },
      "outputs": [],
      "source": [
        "doc_retriever= db.as_retriever()"
      ]
    },
    {
      "cell_type": "code",
      "execution_count": null,
      "metadata": {
        "id": "SiTvtdCtA72N"
      },
      "outputs": [],
      "source": [
        "from langchain.chains import RetrievalQA\n",
        "from langchain.memory import ConversationKGMemory, ReadOnlySharedMemory\n",
        "\n",
        "memory = ConversationKGMemory(memory_key=\"chat_history\",llm=llm)\n",
        "readonlymemory = ReadOnlySharedMemory(memory=memory)\n",
        "\n",
        "qa= RetrievalQA.from_chain_type(llm=llm, chain_type=\"stuff\", retriever=doc_retriever,memory=readonlymemory)"
      ]
    },
    {
      "cell_type": "code",
      "execution_count": null,
      "metadata": {
        "colab": {
          "base_uri": "https://localhost:8080/",
          "height": 35
        },
        "id": "tQxXxdDHA_EV",
        "outputId": "f81d79c9-c8d0-4101-98fe-c459f5d7de26"
      },
      "outputs": [
        {
          "data": {
            "application/vnd.google.colaboratory.intrinsic+json": {
              "type": "string"
            },
            "text/plain": [
              "'The defender for the case Ramesh Debbarma vs The State Of Tripura is Mr. D. Sarkar, Advocate.'"
            ]
          },
          "execution_count": 14,
          "metadata": {},
          "output_type": "execute_result"
        }
      ],
      "source": [
        "qa.run(\"who is the defender for  Ramesh Debbarma vs The State Of Tripura case \")"
      ]
    },
    {
      "cell_type": "code",
      "execution_count": null,
      "metadata": {
        "id": "MC7Wi-ccBQyz"
      },
      "outputs": [],
      "source": []
    }
  ],
  "metadata": {
    "colab": {
      "provenance": []
    },
    "kernelspec": {
      "display_name": "Python 3",
      "name": "python3"
    },
    "language_info": {
      "name": "python"
    }
  },
  "nbformat": 4,
  "nbformat_minor": 0
}
